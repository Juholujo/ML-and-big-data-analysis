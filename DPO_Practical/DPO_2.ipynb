{
 "cells": [
  {
   "cell_type": "code",
   "execution_count": 4,
   "metadata": {},
   "outputs": [
    {
     "name": "stdout",
     "output_type": "stream",
     "text": [
      "                                                речь  \\\n",
      "0                  with a solid job, I can buy a car   \n",
      "1                               with a medium income   \n",
      "2  I am planning with a stable job and medium inc...   \n",
      "3  I have an idea: with solid job and big income ...   \n",
      "4                      No match here, just some text   \n",
      "5  with medium income and stable job everything i...   \n",
      "6   Another line with a random mention: with new job   \n",
      "\n",
      "                                 matches  \n",
      "0                     [with a solid job]  \n",
      "1                 [with a medium income]  \n",
      "2  [with a stable job and medium income]  \n",
      "3        [with solid job and big income]  \n",
      "4                                     []  \n",
      "5    [with medium income and stable job]  \n",
      "6                         [with new job]  \n"
     ]
    }
   ],
   "source": [
    "import pandas as pd\n",
    "import re\n",
    "\n",
    "# Пример данных: столбец \"речь\" без чтения из файла\n",
    "# Здесь \"речь\" — просто список строк, где возможны упоминания паттерна\n",
    "data = [\n",
    "    \"with a solid job, I can buy a car\",\n",
    "    \"with a medium income\",\n",
    "    \"I am planning with a stable job and medium income next year\",\n",
    "    \"I have an idea: with solid job and big income we can do a lot\",\n",
    "    \"No match here, just some text\",\n",
    "    \"with medium income and stable job everything is possible\",\n",
    "    \"Another line with a random mention: with new job\"\n",
    "]\n",
    "\n",
    "# Создаём DataFrame вручную\n",
    "df = pd.DataFrame({\"речь\": data})\n",
    "\n",
    "# Регулярка для поиска шаблона:\n",
    "#   with [a ]<слово> <job|income> [and [a ]<слово> <job|income>]\n",
    "pattern = re.compile(\n",
    "    r\"(with\\s+(?:a\\s+)?\\w+\\s+(?:job|income)(?:\\s+and\\s+(?:a\\s+)?\\w+\\s+(?:job|income))?)\",\n",
    "    flags=re.IGNORECASE\n",
    ")\n",
    "\n",
    "def find_matches(text: str):\n",
    "    \"\"\"\n",
    "    Для каждой строки текста находим все подстроки,\n",
    "    соответствующие нашему шаблону.\n",
    "    \"\"\"\n",
    "    return pattern.findall(text)\n",
    "\n",
    "# Применяем функцию к каждому элементу столбца \"речь\"\n",
    "df[\"matches\"] = df[\"речь\"].apply(find_matches)\n",
    "\n",
    "# Выводим результат\n",
    "print(df)\n"
   ]
  }
 ],
 "metadata": {
  "kernelspec": {
   "display_name": "Python 3",
   "language": "python",
   "name": "python3"
  },
  "language_info": {
   "codemirror_mode": {
    "name": "ipython",
    "version": 3
   },
   "file_extension": ".py",
   "mimetype": "text/x-python",
   "name": "python",
   "nbconvert_exporter": "python",
   "pygments_lexer": "ipython3",
   "version": "3.12.1"
  }
 },
 "nbformat": 4,
 "nbformat_minor": 2
}
