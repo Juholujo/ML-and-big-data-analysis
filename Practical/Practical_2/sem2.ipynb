{
  "cells": [
    {
      "cell_type": "markdown",
      "metadata": {
        "id": "onWdk-ppRs2p"
      },
      "source": [
        "# Импорты"
      ]
    },
    {
      "cell_type": "code",
      "execution_count": 1,
      "metadata": {
        "id": "SV8zd2p6Rs2s"
      },
      "outputs": [],
      "source": [
        "import subprocess\n",
        "import sys\n",
        "import json\n",
        "\n",
        "import numpy as np\n",
        "import pandas as pd\n",
        "import seaborn as sns\n",
        "from matplotlib import pyplot as plt\n",
        "\n",
        "IN_COLAB = \"google.colab\" in sys.modules\n",
        "if IN_COLAB:\n",
        "    subprocess.run([\"pip\", \"install\", \"catboost>=1.2.7\"])\n",
        "\n",
        "# Для более качественных графиков\n",
        "%config InlineBackend.figure_format='retina'\n",
        "plt.rcParams[\"figure.dpi\"] = 150"
      ]
    },
    {
      "cell_type": "markdown",
      "metadata": {
        "id": "QEwsd0qpRs2u"
      },
      "source": [
        "# Форматы данных: csv, json"
      ]
    },
    {
      "cell_type": "markdown",
      "metadata": {
        "id": "WftS8t5ZRs2v"
      },
      "source": [
        "## Csv"
      ]
    },
    {
      "cell_type": "code",
      "execution_count": null,
      "metadata": {
        "id": "epDhAOVnRs2v",
        "outputId": "ee621135-4bd2-4ab9-bfa8-9dd2ac6c665f"
      },
      "outputs": [
        {
          "data": {
            "text/html": [
              "<div>\n",
              "<style scoped>\n",
              "    .dataframe tbody tr th:only-of-type {\n",
              "        vertical-align: middle;\n",
              "    }\n",
              "\n",
              "    .dataframe tbody tr th {\n",
              "        vertical-align: top;\n",
              "    }\n",
              "\n",
              "    .dataframe thead th {\n",
              "        text-align: right;\n",
              "    }\n",
              "</style>\n",
              "<table border=\"1\" class=\"dataframe\">\n",
              "  <thead>\n",
              "    <tr style=\"text-align: right;\">\n",
              "      <th></th>\n",
              "      <th>longitude</th>\n",
              "      <th>latitude</th>\n",
              "      <th>housing_median_age</th>\n",
              "      <th>total_rooms</th>\n",
              "      <th>total_bedrooms</th>\n",
              "      <th>population</th>\n",
              "      <th>households</th>\n",
              "      <th>median_income</th>\n",
              "      <th>median_house_value</th>\n",
              "      <th>ocean_proximity</th>\n",
              "    </tr>\n",
              "  </thead>\n",
              "  <tbody>\n",
              "    <tr>\n",
              "      <th>0</th>\n",
              "      <td>-122.23</td>\n",
              "      <td>37.88</td>\n",
              "      <td>41.0</td>\n",
              "      <td>880.0</td>\n",
              "      <td>129.0</td>\n",
              "      <td>322.0</td>\n",
              "      <td>126.0</td>\n",
              "      <td>8.3252</td>\n",
              "      <td>452600.0</td>\n",
              "      <td>NEAR BAY</td>\n",
              "    </tr>\n",
              "    <tr>\n",
              "      <th>1</th>\n",
              "      <td>-122.22</td>\n",
              "      <td>37.86</td>\n",
              "      <td>21.0</td>\n",
              "      <td>7099.0</td>\n",
              "      <td>1106.0</td>\n",
              "      <td>2401.0</td>\n",
              "      <td>1138.0</td>\n",
              "      <td>8.3014</td>\n",
              "      <td>358500.0</td>\n",
              "      <td>NEAR BAY</td>\n",
              "    </tr>\n",
              "    <tr>\n",
              "      <th>2</th>\n",
              "      <td>-122.24</td>\n",
              "      <td>37.85</td>\n",
              "      <td>52.0</td>\n",
              "      <td>1467.0</td>\n",
              "      <td>190.0</td>\n",
              "      <td>496.0</td>\n",
              "      <td>177.0</td>\n",
              "      <td>7.2574</td>\n",
              "      <td>352100.0</td>\n",
              "      <td>NEAR BAY</td>\n",
              "    </tr>\n",
              "    <tr>\n",
              "      <th>3</th>\n",
              "      <td>-122.25</td>\n",
              "      <td>37.85</td>\n",
              "      <td>52.0</td>\n",
              "      <td>1274.0</td>\n",
              "      <td>235.0</td>\n",
              "      <td>558.0</td>\n",
              "      <td>219.0</td>\n",
              "      <td>5.6431</td>\n",
              "      <td>341300.0</td>\n",
              "      <td>NEAR BAY</td>\n",
              "    </tr>\n",
              "    <tr>\n",
              "      <th>4</th>\n",
              "      <td>-122.25</td>\n",
              "      <td>37.85</td>\n",
              "      <td>52.0</td>\n",
              "      <td>1627.0</td>\n",
              "      <td>280.0</td>\n",
              "      <td>565.0</td>\n",
              "      <td>259.0</td>\n",
              "      <td>3.8462</td>\n",
              "      <td>342200.0</td>\n",
              "      <td>NEAR BAY</td>\n",
              "    </tr>\n",
              "    <tr>\n",
              "      <th>...</th>\n",
              "      <td>...</td>\n",
              "      <td>...</td>\n",
              "      <td>...</td>\n",
              "      <td>...</td>\n",
              "      <td>...</td>\n",
              "      <td>...</td>\n",
              "      <td>...</td>\n",
              "      <td>...</td>\n",
              "      <td>...</td>\n",
              "      <td>...</td>\n",
              "    </tr>\n",
              "    <tr>\n",
              "      <th>20635</th>\n",
              "      <td>-121.09</td>\n",
              "      <td>39.48</td>\n",
              "      <td>25.0</td>\n",
              "      <td>1665.0</td>\n",
              "      <td>374.0</td>\n",
              "      <td>845.0</td>\n",
              "      <td>330.0</td>\n",
              "      <td>1.5603</td>\n",
              "      <td>78100.0</td>\n",
              "      <td>INLAND</td>\n",
              "    </tr>\n",
              "    <tr>\n",
              "      <th>20636</th>\n",
              "      <td>-121.21</td>\n",
              "      <td>39.49</td>\n",
              "      <td>18.0</td>\n",
              "      <td>697.0</td>\n",
              "      <td>150.0</td>\n",
              "      <td>356.0</td>\n",
              "      <td>114.0</td>\n",
              "      <td>2.5568</td>\n",
              "      <td>77100.0</td>\n",
              "      <td>INLAND</td>\n",
              "    </tr>\n",
              "    <tr>\n",
              "      <th>20637</th>\n",
              "      <td>-121.22</td>\n",
              "      <td>39.43</td>\n",
              "      <td>17.0</td>\n",
              "      <td>2254.0</td>\n",
              "      <td>485.0</td>\n",
              "      <td>1007.0</td>\n",
              "      <td>433.0</td>\n",
              "      <td>1.7000</td>\n",
              "      <td>92300.0</td>\n",
              "      <td>INLAND</td>\n",
              "    </tr>\n",
              "    <tr>\n",
              "      <th>20638</th>\n",
              "      <td>-121.32</td>\n",
              "      <td>39.43</td>\n",
              "      <td>18.0</td>\n",
              "      <td>1860.0</td>\n",
              "      <td>409.0</td>\n",
              "      <td>741.0</td>\n",
              "      <td>349.0</td>\n",
              "      <td>1.8672</td>\n",
              "      <td>84700.0</td>\n",
              "      <td>INLAND</td>\n",
              "    </tr>\n",
              "    <tr>\n",
              "      <th>20639</th>\n",
              "      <td>-121.24</td>\n",
              "      <td>39.37</td>\n",
              "      <td>16.0</td>\n",
              "      <td>2785.0</td>\n",
              "      <td>616.0</td>\n",
              "      <td>1387.0</td>\n",
              "      <td>530.0</td>\n",
              "      <td>2.3886</td>\n",
              "      <td>89400.0</td>\n",
              "      <td>INLAND</td>\n",
              "    </tr>\n",
              "  </tbody>\n",
              "</table>\n",
              "<p>20640 rows × 10 columns</p>\n",
              "</div>"
            ],
            "text/plain": [
              "       longitude  latitude  housing_median_age  total_rooms  total_bedrooms  \\\n",
              "0        -122.23     37.88                41.0        880.0           129.0   \n",
              "1        -122.22     37.86                21.0       7099.0          1106.0   \n",
              "2        -122.24     37.85                52.0       1467.0           190.0   \n",
              "3        -122.25     37.85                52.0       1274.0           235.0   \n",
              "4        -122.25     37.85                52.0       1627.0           280.0   \n",
              "...          ...       ...                 ...          ...             ...   \n",
              "20635    -121.09     39.48                25.0       1665.0           374.0   \n",
              "20636    -121.21     39.49                18.0        697.0           150.0   \n",
              "20637    -121.22     39.43                17.0       2254.0           485.0   \n",
              "20638    -121.32     39.43                18.0       1860.0           409.0   \n",
              "20639    -121.24     39.37                16.0       2785.0           616.0   \n",
              "\n",
              "       population  households  median_income  median_house_value  \\\n",
              "0           322.0       126.0         8.3252            452600.0   \n",
              "1          2401.0      1138.0         8.3014            358500.0   \n",
              "2           496.0       177.0         7.2574            352100.0   \n",
              "3           558.0       219.0         5.6431            341300.0   \n",
              "4           565.0       259.0         3.8462            342200.0   \n",
              "...           ...         ...            ...                 ...   \n",
              "20635       845.0       330.0         1.5603             78100.0   \n",
              "20636       356.0       114.0         2.5568             77100.0   \n",
              "20637      1007.0       433.0         1.7000             92300.0   \n",
              "20638       741.0       349.0         1.8672             84700.0   \n",
              "20639      1387.0       530.0         2.3886             89400.0   \n",
              "\n",
              "      ocean_proximity  \n",
              "0            NEAR BAY  \n",
              "1            NEAR BAY  \n",
              "2            NEAR BAY  \n",
              "3            NEAR BAY  \n",
              "4            NEAR BAY  \n",
              "...               ...  \n",
              "20635          INLAND  \n",
              "20636          INLAND  \n",
              "20637          INLAND  \n",
              "20638          INLAND  \n",
              "20639          INLAND  \n",
              "\n",
              "[20640 rows x 10 columns]"
            ]
          },
          "execution_count": 4,
          "metadata": {},
          "output_type": "execute_result"
        }
      ],
      "source": [
        "pd.read_csv(\"data/housing.csv\")"
      ]
    },
    {
      "cell_type": "markdown",
      "metadata": {
        "id": "X-lM4ghDRs2w"
      },
      "source": [
        "## Json"
      ]
    },
    {
      "cell_type": "code",
      "execution_count": 79,
      "metadata": {
        "colab": {
          "base_uri": "https://localhost:8080/",
          "height": 139
        },
        "id": "QlxzzGglRs2w",
        "outputId": "ed0c6eb4-e78b-41f4-a13c-d45be31091af"
      },
      "outputs": [
        {
          "output_type": "execute_result",
          "data": {
            "text/plain": [
              "'[\\n  {\\n    \"name\": \"Faina Lee\",\\n    \"email\": \"faina@mail.ru\",\\n    \"birthday\": \"22.08.1994\",\\n    \"phones\": [\\n      {\\n        \"phone\": \"232-19-55\"\\n      },\\n      {\\n        \"phone\": \"+7 (916) 232-19-55\"\\n      }\\n    ]\\n  },\\n  {\\n    \"name\": \"Robert Lee\",\\n    \"email\": \"robert@mail.ru\",\\n    \"birthday\": \"22.08.1994\",\\n    \"phones\": [\\n      {\\n        \"phone\": \"111-19-55\"\\n      },\\n      {\\n        \"phone\": \"+7 (916) 445-19-55\"\\n      }\\n    ]\\n  },\\n  {\\n    \"name\": \"Faina Lee\",\\n    \"email\": \"faina@mail.ru\",\\n    \"birthday\": \"22.08.1994\",\\n    \"phones\": [\\n      {\\n        \"phone\": \"232-19-55\"\\n      },\\n      {\\n        \"phone\": \"+7 (916) 232-19-55\"\\n      }\\n    ]\\n  },\\n  {\\n    \"name\": \"Robert Lee\",\\n    \"email\": \"robert@mail.ru\",\\n    \"birthday\": \"22.08.1994\",\\n    \"phones\": [\\n      {\\n        \"phone\": \"111-19-55\"\\n      },\\n      {\\n        \"phone\": \"+7 (916) 445-19-55\"\\n      }\\n    ]\\n  }\\n]'"
            ],
            "application/vnd.google.colaboratory.intrinsic+json": {
              "type": "string"
            }
          },
          "metadata": {},
          "execution_count": 79
        }
      ],
      "source": [
        "with open(\"addres-book.json\", \"r\") as f:\n",
        "    text = f.read()\n",
        "\n",
        "text"
      ]
    },
    {
      "cell_type": "code",
      "execution_count": 10,
      "metadata": {
        "colab": {
          "base_uri": "https://localhost:8080/"
        },
        "id": "T005O-MXRs2x",
        "outputId": "dbc54afc-e386-4324-cdf0-61ec474087c9"
      },
      "outputs": [
        {
          "output_type": "execute_result",
          "data": {
            "text/plain": [
              "[{'name': 'Faina Lee',\n",
              "  'email': 'faina@mail.ru',\n",
              "  'birthday': '22.08.1994',\n",
              "  'phones': [{'phone': '232-19-55'}, {'phone': '+7 (916) 232-19-55'}]},\n",
              " {'name': 'Robert Lee',\n",
              "  'email': 'robert@mail.ru',\n",
              "  'birthday': '22.08.1994',\n",
              "  'phones': [{'phone': '111-19-55'}, {'phone': '+7 (916) 445-19-55'}]},\n",
              " {'name': 'Faina Lee',\n",
              "  'email': 'faina@mail.ru',\n",
              "  'birthday': '22.08.1994',\n",
              "  'phones': [{'phone': '232-19-55'}, {'phone': '+7 (916) 232-19-55'}]},\n",
              " {'name': 'Robert Lee',\n",
              "  'email': 'robert@mail.ru',\n",
              "  'birthday': '22.08.1994',\n",
              "  'phones': [{'phone': '111-19-55'}, {'phone': '+7 (916) 445-19-55'}]}]"
            ]
          },
          "metadata": {},
          "execution_count": 10
        }
      ],
      "source": [
        "with open(\"addres-book.json\", \"r\") as f:\n",
        "    json_data = json.load(f)\n",
        "\n",
        "json_data"
      ]
    },
    {
      "cell_type": "code",
      "source": [
        "from datetime import datetime\n",
        "\n",
        "data = [\n",
        "    {'name': 'Faina Lee', 'email': 'faina@mail.ru', 'birthday': '22.08.1994', 'phones': [{'phone': '232-19-55'}, {'phone': '+7 (916) 232-19-55'}]},\n",
        "    {'name': 'Robert Lee', 'email': 'robert@mail.ru', 'birthday': '22.07.1998', 'phones': [{'phone': '111-19-55'}, {'phone': '+7 (916) 445-19-55'}]},\n",
        "    {'name': 'Faina Lee', 'email': 'faina@mail.ru', 'birthday': '22.08.1994', 'phones': [{'phone': '232-19-55'}, {'phone': '+7 (916) 232-19-55'}]},\n",
        "    {'name': 'Robert Lee', 'email': 'robert@mail.ru', 'birthday': '22.08.1994', 'phones': [{'phone': '111-19-55'}, {'phone': '+7 (916) 445-19-55'}]}\n",
        "]\n",
        "\n",
        "# Преобразуем даты рождения в объекты datetime и находим человека с самым поздним днем рождения\n",
        "latest_birthday_person = max(data, key=lambda x: datetime.strptime(x['birthday'], '%d.%m.%Y'))\n",
        "\n",
        "# Возвращаем имя человека с самым поздним днем рождения\n",
        "print(latest_birthday_person['name'])"
      ],
      "metadata": {
        "colab": {
          "base_uri": "https://localhost:8080/"
        },
        "id": "MT_s5i1FTW6x",
        "outputId": "69cc3626-6d56-4f64-aaeb-b662c0a062ce"
      },
      "execution_count": 14,
      "outputs": [
        {
          "output_type": "stream",
          "name": "stdout",
          "text": [
            "Robert Lee\n"
          ]
        }
      ]
    },
    {
      "cell_type": "markdown",
      "metadata": {
        "id": "oOxfQwT8Rs2x"
      },
      "source": [
        "Задача: соберите все уникальные телефоны в этом json"
      ]
    },
    {
      "cell_type": "code",
      "source": [
        "print(list(set(phone['phone'] for entry in data for phone in entry['phones'])))"
      ],
      "metadata": {
        "colab": {
          "base_uri": "https://localhost:8080/"
        },
        "id": "8MgLlL-ZTg6H",
        "outputId": "3233abc3-61f2-4e4d-8e72-027b3910b814"
      },
      "execution_count": 18,
      "outputs": [
        {
          "output_type": "stream",
          "name": "stdout",
          "text": [
            "['+7 (916) 232-19-55', '232-19-55', '111-19-55', '+7 (916) 445-19-55']\n"
          ]
        }
      ]
    },
    {
      "cell_type": "markdown",
      "metadata": {
        "id": "Gkb06kGVRs2y"
      },
      "source": [
        "## Работа с файловой системой"
      ]
    },
    {
      "cell_type": "code",
      "execution_count": null,
      "metadata": {
        "id": "TZId6pWGRs2y"
      },
      "outputs": [],
      "source": [
        "from pathlib import Path\n",
        "\n",
        "p = Path()  # очень удобный способ взаимодействовать с файловой системой"
      ]
    },
    {
      "cell_type": "markdown",
      "metadata": {
        "id": "45DsoI54Rs2y"
      },
      "source": [
        "# Обогащение, разметка датасетов"
      ]
    },
    {
      "cell_type": "markdown",
      "metadata": {
        "id": "NCS7V48VRs2y"
      },
      "source": [
        "## Feature engineering"
      ]
    },
    {
      "cell_type": "markdown",
      "metadata": {
        "id": "T0d_126XRs2z"
      },
      "source": [
        "Для улучшения качества моделей можно придумывать новые признаки на основании уже существующих\n",
        "\n",
        "\n",
        "Способы создания новых признаков:\n",
        "- Математические операции (возведение в квадрат, логарифм)\n",
        "- На основе условий (больше ли этот признак какого-то значения, является ли он максимально возможным)\n",
        "- Комбинация нескольких признаков\n",
        "- Агрегация (среднее этого признака, сколько раз в тексте встречалось какое-то слово)"
      ]
    },
    {
      "cell_type": "code",
      "execution_count": 32,
      "metadata": {
        "id": "ewI1EVWYRs2z"
      },
      "outputs": [],
      "source": [
        "df = pd.read_csv(\"train.csv\")"
      ]
    },
    {
      "cell_type": "markdown",
      "metadata": {
        "id": "ja4hJYfiRs2z"
      },
      "source": [
        "## Регулярные выражения"
      ]
    },
    {
      "cell_type": "markdown",
      "metadata": {
        "id": "Jz6w7z_iRs20"
      },
      "source": [
        "Регулярные выражение - формальный язык для составления текстовых шаблонов. При помощи этих шаблонов можно искать и обрабатывать текст"
      ]
    },
    {
      "cell_type": "markdown",
      "metadata": {
        "id": "taSK28AlRs20"
      },
      "source": [
        "Создать откомпилированный шаблон регулярного выражения позволяет функция `compile()`"
      ]
    },
    {
      "cell_type": "code",
      "execution_count": 34,
      "metadata": {
        "id": "04PBksBkRs20"
      },
      "outputs": [],
      "source": [
        "import re\n",
        "\n",
        "# Шаблон, соответствующий строке, начинающейся на 0-6 русских букв\n",
        "# p = re.compile(r\"[а-яё]{0,6}\")\n",
        "# # Найдем в строке \"тиквввввtik\" подстроку, которая удовлетворяет шаблону\n",
        "# p.match(\"тиквввввtik\").group(0)"
      ]
    },
    {
      "cell_type": "code",
      "execution_count": 65,
      "metadata": {
        "colab": {
          "base_uri": "https://localhost:8080/",
          "height": 35
        },
        "id": "hKZF5Ro_Rs20",
        "outputId": "eb2fa2af-6c64-493c-b3fa-b1d3953dce68"
      },
      "outputs": [
        {
          "output_type": "execute_result",
          "data": {
            "text/plain": [
              "'тикикикики[lmaolmaolmaoфыфыффыф'"
            ],
            "application/vnd.google.colaboratory.intrinsic+json": {
              "type": "string"
            }
          },
          "metadata": {},
          "execution_count": 65
        }
      ],
      "source": [
        "re.sub(r'[a-z]', 'lmao', 'тикикикики[tikфыфыффыф')"
      ]
    },
    {
      "cell_type": "markdown",
      "metadata": {
        "id": "CAy-jJ1FRs20"
      },
      "source": [
        "__Специальные символы регулярных выражений__\n",
        "\n",
        "Внутри регулярного выражения символы `.   ^   $  *  +  ?   {  } [  ]  \\  |  ( ) -` имеют специальное значение.\n",
        "* Если эти символы требуется выводить как есть, то их следует экранировать с помощью слэша `\\`.\n",
        "* Некоторые сnециальные символы теряют свое особое значение, если их разместить внутри квадратных скобок `[]`. В этом случае экранировать их не нужно."
      ]
    },
    {
      "cell_type": "markdown",
      "metadata": {
        "id": "w_tKtfwPRs20"
      },
      "source": [
        "__Основные методы__\n",
        "\n",
        "* `re.match()` - Этот метод ищет по заданному шаблону в начале строки. Возвращает первое вхождение подстроки в виде объекта SRE_Match object, из которого:\n",
        "    * можно получить результирующую подстроку с помощью функции group\n",
        "    * индексы начальной и конечной позиции с помощью функций start() и end(), соответственно.\n",
        "* `re.search()` - ищет по заданному шаблону во всей строке\n",
        "* `re.findall()` - возвращает список всех найденных совпадений (подстрок).\n",
        "* `re.split()` - разделяет строку по заданному шаблону\n",
        "* `re.sub()` - заменяет шаблон на указанную подстроку."
      ]
    },
    {
      "cell_type": "markdown",
      "metadata": {
        "id": "YxS3DyReRs20"
      },
      "source": [
        "В квадратных скобках `[]` можно указать символы, которые могут встречаться на этом месте в строке. Можно перечислять символы подряд или указать их диапазон через тире. Например:\n",
        "* `[09]` - соответствует цифре 0 или 9 <br>\n",
        "* `[0-9]` - соответствует одной цифре от 0 до 9 <br>\n",
        "* `[абв]` - соответствует букве \"а\", \"б\" или \"в\" <br>\n",
        "* `[а-г]` - соответствует букве \"а\", \"б\", \"в\" или \"г\" <br>\n",
        "* `[а-я]` - соответствует любой букве от \"а\" до \"я\", кроме буквы \"ё\" (т.к. \"ё\" находится вне непрерывного дипаозона символов русского алфавита) <br>\n",
        "* `[а-яё]` - соответствует любой букве от \"а\" до \"я\" <br>\n",
        "* `[АБВ]` - соответствует букве \"А\", \"Б\" или \"В\" <br>\n",
        "* `[А-ЯЁ]` - соответствует любой букве от \"А\" до \"Я\" <br>\n",
        "* `[а-яА-ЯёЁ]` - соответствует любой русской букве в любом регистре <br>\n",
        "* `[0-9а-яА-ЯёЁа-zА-Z]` - любая цифра и любая буква независимо от регистра и языка"
      ]
    },
    {
      "cell_type": "markdown",
      "metadata": {
        "id": "Yhvoj7pNRs21"
      },
      "source": [
        "Вместо перечисления символов можно использовать стандартные классы: <br>\n",
        "\n",
        "* . - любой символ, кроме перевода строки (если точка не экранирована и не заключена в квадратные скобки)\n",
        "* \\d - соответствует любой цифре (эквивалентно [0-9]) <br>\n",
        "* \\w - соответствует любой букве, цифре или символу подчеркивания ([a-zA-Zа-яЁА-ЯЁ0-9_]) <br>\n",
        "* \\s - любой пробельный символ (пробел, перевод строки, табуляция и т.д.) <br>\n",
        "* \\D - не цифра (эквивалентно [^0-9]) <br>\n",
        "* \\W - не буква, не цифра и не символ подчеркивания (эквивалентно [^a-zA-Zа-яЁА-ЯЁ0-9_]) <br>\n",
        "* \\S - не пробельный символ <br>\n",
        "* \\b - обозначение левой или правой границы слова (где слово трактуется как последовательность букв или цифр)"
      ]
    },
    {
      "cell_type": "markdown",
      "metadata": {
        "id": "6E7nC3nDRs21"
      },
      "source": [
        "С помощью квантификаторов задается количество вхождений символа в строку. Указывается после символа, к которому относится разрешенное количество повторений: <br>\n",
        "\n",
        "* `{n}` - n вхождений символа в строку. Например. шаблон `r\"[0-9]{2}\"` соответствует двум вхождениям любой цифры\n",
        "* `{n,}` - n или более вхождений символа в строку. Например. шаблон `r\"[0-9]{2,}\"` соответствует двум и более вхождениям любой цифры\n",
        "* `{n,m}` - не менее n и не более m вхождений символа в строку. Числа указываются через запятую без пробела.\n",
        "    * Например, шаблон `r\"[0-9]{2,4}\"` соответствует от двух до четырех вхождениям любой цифры\n",
        "* `*` - ноль или большее число вхождений символа в строку. Эквивалентно комбинации `{0,}`\n",
        "* `+` - одно или большее число вхождений символа в строку. Эквивалентно комбинации `{1,}`\n",
        "* `?` - ни одного или одно вхождение символа в строку. Эквивалентно комбинации `{0,1}`."
      ]
    },
    {
      "cell_type": "markdown",
      "metadata": {
        "id": "OcW8wn9rRs21"
      },
      "source": [
        "Еще полезные символы:\n",
        "\n",
        "* `^` - привязка к началу строки или подстроки.\n",
        "* `$` - привязка к концу строки или подстроки."
      ]
    },
    {
      "cell_type": "markdown",
      "metadata": {
        "id": "-WKY_qNQRs21"
      },
      "source": [
        "Задача: сделайте шаблон для нахождения телефонов в формате +7 (xxx) xxx-xx-xx и найдите все такие телефоны в json'e `addres-book.json`, загрузив этот файл как строку"
      ]
    },
    {
      "cell_type": "code",
      "source": [
        "import re\n",
        "\n",
        "# Регулярное выражение для поиска телефонов в формате +7 (XXX) XXX-XX-XX\n",
        "pattern = r\"\\+7\\s\\(?\\d{3}\\)?\\s\\d{3}-\\d{2}-\\d{2}\"\n",
        "\n",
        "# Находим все совпадения\n",
        "phones = re.findall(pattern, text)\n",
        "\n",
        "# Выводим найденные телефоны\n",
        "print(phones)\n"
      ],
      "metadata": {
        "colab": {
          "base_uri": "https://localhost:8080/"
        },
        "id": "EPN2d4i6gPww",
        "outputId": "5bb8e1d7-2b65-496c-ac99-1bdad9d7a782"
      },
      "execution_count": 80,
      "outputs": [
        {
          "output_type": "stream",
          "name": "stdout",
          "text": [
            "['+7 (916) 232-19-55', '+7 (916) 445-19-55', '+7 (916) 232-19-55', '+7 (916) 445-19-55']\n"
          ]
        }
      ]
    },
    {
      "cell_type": "code",
      "source": [],
      "metadata": {
        "id": "Nr90EST8gk3z"
      },
      "execution_count": null,
      "outputs": []
    }
  ],
  "metadata": {
    "kernelspec": {
      "display_name": ".venv",
      "language": "python",
      "name": "python3"
    },
    "language_info": {
      "codemirror_mode": {
        "name": "ipython",
        "version": 3
      },
      "file_extension": ".py",
      "mimetype": "text/x-python",
      "name": "python",
      "nbconvert_exporter": "python",
      "pygments_lexer": "ipython3",
      "version": "3.11.5"
    },
    "colab": {
      "provenance": []
    }
  },
  "nbformat": 4,
  "nbformat_minor": 0
}